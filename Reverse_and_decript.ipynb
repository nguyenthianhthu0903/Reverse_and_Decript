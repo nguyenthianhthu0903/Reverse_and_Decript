{
  "nbformat": 4,
  "nbformat_minor": 0,
  "metadata": {
    "colab": {
      "provenance": [],
      "authorship_tag": "ABX9TyM/fQj0tp/ZyQCFmcMQX6D5",
      "include_colab_link": true
    },
    "kernelspec": {
      "name": "python3",
      "display_name": "Python 3"
    },
    "language_info": {
      "name": "python"
    }
  },
  "cells": [
    {
      "cell_type": "markdown",
      "metadata": {
        "id": "view-in-github",
        "colab_type": "text"
      },
      "source": [
        "<a href=\"https://colab.research.google.com/github/nguyenthianhthu0903/Reverse_and_Decript/blob/main/Reverse_and_decript.ipynb\" target=\"_parent\"><img src=\"https://colab.research.google.com/assets/colab-badge.svg\" alt=\"Open In Colab\"/></a>"
      ]
    },
    {
      "cell_type": "code",
      "source": [
        "#reverse\n",
        "\n",
        "def reverse_encrytion(x):\n",
        "  return x[::-1]\n",
        "\n",
        "d=reverse_encrytion(\"bao mat may tinh\")\n",
        "print(d)\n",
        "c= reverse_encrytion(d) #chay lai lan 2 là giai ma\n",
        "print(c)\n",
        "\n",
        "\n",
        "\n",
        "def caesar_encrypt(text,k):\n",
        "  result=\"\"\n",
        "  for character in text: \n",
        "      x = ord(character)\n",
        "      result += chr(x + k)\n",
        "  return result\n",
        "\n",
        "print(caesar_encrypt(\"bao mat@\",2))\n",
        "a=\"Npl~l}Nt{sp}KWpNzyrYrstl.=C<;/;C<;\"\n",
        "\n",
        "def caesar_decrypt(text,k):\n",
        "  result=\"\"\n",
        "  for character in text: \n",
        "      x = ord(character)\n",
        "      result += chr(x - k)\n",
        "  return result\n",
        "\n",
        "print(caesar_decrypt(a,11))\n"
      ],
      "metadata": {
        "colab": {
          "base_uri": "https://localhost:8080/"
        },
        "id": "SOPM9wdtjeeS",
        "outputId": "3c5b1806-5115-4ec8-b899-994f1b503768"
      },
      "execution_count": null,
      "outputs": [
        {
          "output_type": "stream",
          "name": "stdout",
          "text": [
            "hnit yam tam oab\n",
            "bao mat may tinh\n",
            "dcq\"ocvB\n",
            "CeasarCipher@LeCongNghia#2810$0810\n"
          ]
        }
      ]
    },
    {
      "cell_type": "code",
      "source": [
        "def decrypt(text,s,x):\n",
        "  result = \"\"\n",
        "  count = 0\n",
        "  #traverse text\n",
        "  for i in range(len(text)):\n",
        "    char = text[i]\n",
        "    index = count%x\n",
        "    if (str(char) != \" \"):\n",
        "      #Encrypt uppercase characters\n",
        "      if (char.isupper()):\n",
        "        result += chr((ord(char) - s[index]-65) % 26 +65)\n",
        "      #Encrypt lowercase characters\n",
        "      else:\n",
        "        result += chr((ord(char) - s[index] -97) % 26 +97)\n",
        "    else:\n",
        "      result += char\n",
        "    count = count +1\n",
        "  return result\n",
        "\n",
        "text = \"EFCHI CF EJ GEH\"\n",
        "s = [4, 5, 2, 7, 8, 3, 1]\n",
        "x = len(s)\n",
        "print(\"Text: \" + text)\n",
        "print(\"Shift: \" +str(s))\n",
        "print(\"Cipher: \" + decrypt(text,s,x))"
      ],
      "metadata": {
        "colab": {
          "base_uri": "https://localhost:8080/"
        },
        "id": "ljD4b63wg6UO",
        "outputId": "7d701cd0-dec6-488a-ebce-5e8aeffaf5b6"
      },
      "execution_count": null,
      "outputs": [
        {
          "output_type": "stream",
          "name": "stdout",
          "text": [
            "Text: EFCHI CF EJ GEH\n",
            "Shift: [4, 5, 2, 7, 8, 3, 1]\n",
            "Cipher: AAAAA BB CC DDD\n"
          ]
        }
      ]
    }
  ]
}